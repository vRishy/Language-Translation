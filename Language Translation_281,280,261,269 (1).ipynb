{
 "cells": [
  {
   "cell_type": "markdown",
   "id": "fe344c71",
   "metadata": {},
   "source": [
    "# LANGUAGE TRANSLATION \n",
    "## APPLIED MACHINE LEARNING - 18CSE481T\n",
    "##### TEAM MEMBERS:\n",
    "###### SAI RISHYANTH VISINIGIRI [RA2111026010280]\n",
    "###### KAVYA REDDY VUTUKURI [RA2111026010261]\n",
    "###### SUHAS GANGA [RA2111026010281]\n",
    "###### SHASHANK VENKATESHA [RA2111026010269]\n"
   ]
  },
  {
   "cell_type": "code",
   "execution_count": null,
   "id": "61888c5b",
   "metadata": {},
   "outputs": [],
   "source": [
    "pip install pyAudio"
   ]
  },
  {
   "cell_type": "code",
   "execution_count": null,
   "id": "a41ae85d",
   "metadata": {},
   "outputs": [],
   "source": [
    "pip install playsound"
   ]
  },
  {
   "cell_type": "code",
   "execution_count": null,
   "id": "553101d3",
   "metadata": {},
   "outputs": [],
   "source": [
    "pip install SpeechRecognition"
   ]
  },
  {
   "cell_type": "code",
   "execution_count": null,
   "id": "4330c221",
   "metadata": {},
   "outputs": [],
   "source": [
    "pip install googletrans==4.0.0-rc1"
   ]
  },
  {
   "cell_type": "code",
   "execution_count": null,
   "id": "16f21b23",
   "metadata": {},
   "outputs": [],
   "source": [
    "pip install gTTs"
   ]
  },
  {
   "cell_type": "code",
   "execution_count": null,
   "id": "8d415b9d",
   "metadata": {},
   "outputs": [],
   "source": [
    "pip install gTTS-token"
   ]
  },
  {
   "cell_type": "code",
   "execution_count": null,
   "id": "3c625133",
   "metadata": {},
   "outputs": [],
   "source": [
    "pip install --upgrade httpx"
   ]
  },
  {
   "cell_type": "code",
   "execution_count": 1,
   "id": "60658afe",
   "metadata": {},
   "outputs": [],
   "source": [
    "from playsound import playsound \n",
    "import speech_recognition as sr \n",
    "from googletrans import Translator \n",
    "from gtts import gTTS \n",
    "import os"
   ]
  },
  {
   "cell_type": "code",
   "execution_count": 2,
   "id": "2a25c1da",
   "metadata": {},
   "outputs": [],
   "source": [
    "dic=('afrikaans', 'af', 'albanian', 'sq', 'amharic', 'am', \n",
    "\t'arabic', 'ar', 'armenian', 'hy', 'azerbaijani', 'az', \n",
    "'basque', 'eu', 'belarusian', 'be', 'bengali', 'bn', 'bosnian', \n",
    "\t'bs', 'bulgarian', 'bg', 'catalan', 'ca', \n",
    "'cebuano', 'ceb', 'chichewa', 'ny', 'chinese (simplified)', \n",
    "\t'zh-cn', 'chinese (traditional)', 'zh-tw', \n",
    "'corsican', 'co', 'croatian', 'hr', 'czech', 'cs', 'danish', \n",
    "\t'da', 'dutch', 'nl', 'english', 'en', 'esperanto', \n",
    "'eo', 'estonian', 'et', 'filipino', 'tl', 'finnish', 'fi', \n",
    "\t'french', 'fr', 'frisian', 'fy', 'galician', 'gl', \n",
    "'georgian', 'ka', 'german', 'de', 'greek', 'el', 'gujarati', \n",
    "\t'gu', 'haitian creole', 'ht', 'hausa', 'ha', \n",
    "'hawaiian', 'haw', 'hebrew', 'he', 'hindi', 'hi', 'hmong', \n",
    "\t'hmn', 'hungarian', 'hu', 'icelandic', 'is', 'igbo', \n",
    "'ig', 'indonesian', 'id', 'irish', 'ga', 'italian', 'it', \n",
    "\t'japanese', 'ja', 'javanese', 'jw', 'kannada', 'kn', \n",
    "'kazakh', 'kk', 'khmer', 'km', 'korean', 'ko', 'kurdish (kurmanji)', \n",
    "\t'ku', 'kyrgyz', 'ky', 'lao', 'lo', \n",
    "'latin', 'la', 'latvian', 'lv', 'lithuanian', 'lt', 'luxembourgish', \n",
    "\t'lb', 'macedonian', 'mk', 'malagasy', \n",
    "'mg', 'malay', 'ms', 'malayalam', 'ml', 'maltese', 'mt', 'maori', \n",
    "\t'mi', 'marathi', 'mr', 'mongolian', 'mn', \n",
    "'myanmar (burmese)', 'my', 'nepali', 'ne', 'norwegian', 'no', \n",
    "\t'odia', 'or', 'pashto', 'ps', 'persian', \n",
    "'fa', 'polish', 'pl', 'portuguese', 'pt', 'punjabi', 'pa', \n",
    "\t'romanian', 'ro', 'russian', 'ru', 'samoan', \n",
    "'sm', 'scots gaelic', 'gd', 'serbian', 'sr', 'sesotho', \n",
    "\t'st', 'shona', 'sn', 'sindhi', 'sd', 'sinhala', \n",
    "'si', 'slovak', 'sk', 'slovenian', 'sl', 'somali', 'so', \n",
    "\t'spanish', 'es', 'sundanese', 'su', \n",
    "'swahili', 'sw', 'swedish', 'sv', 'tajik', 'tg', 'tamil', \n",
    "\t'ta', 'telugu', 'te', 'thai', 'th', 'turkish', 'tr', \n",
    "'ukrainian', 'uk', 'urdu', 'ur', 'uyghur', 'ug', 'uzbek', \n",
    "\t'uz', 'vietnamese', 'vi', 'welsh', 'cy', 'xhosa', 'xh', \n",
    "'yiddish', 'yi', 'yoruba', 'yo', 'zulu', 'zu')\n"
   ]
  },
  {
   "cell_type": "code",
   "execution_count": 3,
   "id": "9532603e",
   "metadata": {},
   "outputs": [],
   "source": [
    "# Capture Voice \n",
    "# takes command through microphone \n",
    "def takecommand(): \n",
    "    r = sr.Recognizer() \n",
    "    with sr.Microphone() as source: \n",
    "        print(\"listening.....\") \n",
    "        r.pause_threshold = 1\n",
    "        audio = r.listen(source) \n",
    "\n",
    "    try: \n",
    "        print(\"Recognizing.....\") \n",
    "        query = r.recognize_google(audio, language='en-in') \n",
    "        print(f\"user said {query}\\n\") \n",
    "    except Exception as e: \n",
    "        print(\"say that again please.....\") \n",
    "        return \"None\"\n",
    "    return query \n"
   ]
  },
  {
   "cell_type": "code",
   "execution_count": 4,
   "id": "cdec51ec",
   "metadata": {},
   "outputs": [
    {
     "name": "stdout",
     "output_type": "stream",
     "text": [
      "listening.....\n",
      "Recognizing.....\n",
      "user said who are you\n",
      "\n",
      "Enter the language in which you want to convert: Ex. Hindi , English , etc.\n",
      "\n",
      "listening.....\n",
      "Recognizing.....\n",
      "user said Hindi\n",
      "\n"
     ]
    }
   ],
   "source": [
    "\n",
    "query = takecommand() \n",
    "while (query == \"None\"): \n",
    "    query = takecommand() \n",
    "\n",
    "def destination_language(): \n",
    "    print(\"Enter the language in which you want to convert: Ex. Hindi , English , etc.\") \n",
    "    print() \n",
    "\n",
    "    # Input destination language in which the user \n",
    "    # wants to translate \n",
    "    to_lang = takecommand() \n",
    "    while (to_lang == \"None\"): \n",
    "        to_lang = takecommand() \n",
    "    to_lang = to_lang.lower() \n",
    "    return to_lang \n",
    "\n",
    "to_lang = destination_language() \n",
    "\n",
    "# Mapping it with the code \n",
    "while (to_lang not in dic): \n",
    "    print(\"Language in which you are trying to convert is currently not available ,please input some other language\") \n",
    "    print() \n",
    "    to_lang = destination_language() \n",
    "\n",
    "to_lang = dic[dic.index(to_lang)+1] \n"
   ]
  },
  {
   "cell_type": "code",
   "execution_count": 5,
   "id": "311c0d0a",
   "metadata": {},
   "outputs": [
    {
     "name": "stdout",
     "output_type": "stream",
     "text": [
      "आप कौन हैं\n"
     ]
    }
   ],
   "source": [
    "# invoking Translator \n",
    "translator = Translator() \n",
    "# Translating from src to dest \n",
    "text_to_translate = translator.translate(query, dest=to_lang) \n",
    "text = text_to_translate.text \n",
    "# Using Google-Text-to-Speech ie, gTTS() method \n",
    "# to speak the translated text into the \n",
    "# destination language which is stored in to_lang. \n",
    "# Also, we have given 3rd argument as False because \n",
    "# by default it speaks very slowly \n",
    "speak = gTTS(text=text, lang=to_lang, slow=False) \n",
    "\n",
    "# Using save() method to save the translated \n",
    "# speech in capture_voice.mp3 \n",
    "speak.save(\"captured_voice.mp3\") \n",
    "\n",
    "# Using OS module to run the translated voice. \n",
    "playsound('captured_voice.mp3') \n",
    "os.remove('captured_voice.mp3') \n",
    "print(text) \n"
   ]
  },
  {
   "cell_type": "code",
   "execution_count": 6,
   "id": "7f4f86e5",
   "metadata": {},
   "outputs": [
    {
     "name": "stdout",
     "output_type": "stream",
     "text": [
      "आप कौन हैं\n"
     ]
    }
   ],
   "source": [
    "# Using Google-Text-to-Speech ie, gTTS() method \n",
    "# to speak the translated text into the \n",
    "# destination language which is stored in to_lang. \n",
    "# Also, we have given 3rd argument as False because \n",
    "# by default it speaks very slowly \n",
    "speak = gTTS(text=text, lang=to_lang, slow=False) \n",
    "\n",
    "# Using save() method to save the translated \n",
    "# speech in capture_voice.mp3 \n",
    "speak.save(\"captured_voice.mp3\") \n",
    "\n",
    "# Using OS module to run the translated voice. \n",
    "playsound('captured_voice.mp3') \n",
    "os.remove('captured_voice.mp3') \n",
    "print(text) \n"
   ]
  },
  {
   "cell_type": "code",
   "execution_count": null,
   "id": "684045c1",
   "metadata": {},
   "outputs": [],
   "source": []
  }
 ],
 "metadata": {
  "kernelspec": {
   "display_name": "Python 3 (ipykernel)",
   "language": "python",
   "name": "python3"
  },
  "language_info": {
   "codemirror_mode": {
    "name": "ipython",
    "version": 3
   },
   "file_extension": ".py",
   "mimetype": "text/x-python",
   "name": "python",
   "nbconvert_exporter": "python",
   "pygments_lexer": "ipython3",
   "version": "3.10.9"
  }
 },
 "nbformat": 4,
 "nbformat_minor": 5
}
